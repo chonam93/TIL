{
 "cells": [
  {
   "cell_type": "code",
   "execution_count": null,
   "metadata": {},
   "outputs": [],
   "source": [
    "# Homework#1_21.03.31\n",
    "# 가위바위보를 while문을 이용하여 이길 때 까지 반복하기\n",
    "# 중복 없는 로또번호 생성기 만들기"
   ]
  },
  {
   "cell_type": "code",
   "execution_count": 1,
   "metadata": {},
   "outputs": [
    {
     "name": "stdout",
     "output_type": "stream",
     "text": [
      "가위바위보 게임 시작하겠습니다. 이길 때까지 반복합니다\n",
      "컴퓨터의 수도 계속 변합니다.\n",
      "\n",
      "무엇을 내겠습니까?: 파이썬\n",
      "잘못된 입력입니다. 다시 입력하세요\n",
      "\n",
      "무엇을 내겠습니까?: 바위\n",
      "무승부. 다시입력하세요.\n",
      "\n",
      "무엇을 내겠습니까?: 보\n",
      "패배. 다시입력하세요. 컴퓨터는 가위였습니다.\n",
      "\n",
      "무엇을 내겠습니까?: 가위\n",
      "승리하셨습니다. 컴퓨터는 보, 당신은 가위\n",
      "\n"
     ]
    }
   ],
   "source": [
    "#Q1. 가위 바위 보를 while문을 이용하여 이길 때 까지 반복하기\n",
    "import random\n",
    "\n",
    "print(\"가위바위보 게임 시작하겠습니다. 이길 때까지 반복합니다\")\n",
    "print(\"컴퓨터의 수도 계속 변합니다.\\n\")\n",
    "\n",
    "while True:\n",
    "    choice = ['가위', '바위', '보']\n",
    "    guess = input('무엇을 내겠습니까?: ')\n",
    "    answer = random.choice(choice)\n",
    "    if guess == answer:\n",
    "        print('무승부. 다시입력하세요.\\n')\n",
    "    elif guess == '가위' and answer == '보':\n",
    "        print('승리하셨습니다. 컴퓨터는 {}, 당신은 {}\\n'.format(answer, guess))\n",
    "        break\n",
    "    elif guess == '바위' and answer == '가위':\n",
    "        print('승리하셨습니다. 컴퓨터는 {}, 당신은 {}\\n'.format(answer, guess))\n",
    "        break\n",
    "    elif guess == '보' and answer == '바위':\n",
    "        print('승리하셨습니다. 컴퓨터는 {}, 당신은 {}\\n'.format(answer, guess))\n",
    "        break\n",
    "    elif guess not in choice:\n",
    "        print('잘못된 입력입니다. 다시 입력하세요\\n')\n",
    "        \n",
    "    else:\n",
    "        print('패배. 다시입력하세요. 컴퓨터는 {}였습니다.\\n'.format(answer))"
   ]
  },
  {
   "cell_type": "code",
   "execution_count": 2,
   "metadata": {},
   "outputs": [
    {
     "name": "stdout",
     "output_type": "stream",
     "text": [
      "로또 생성 프로그램\n",
      "==================\n",
      "1번째 번호는 2입니다\n",
      "2번째 번호는 12입니다\n",
      "3번째 번호는 35입니다\n",
      "4번째 번호는 44입니다\n",
      "5번째 번호는 15입니다\n",
      "6번째 번호는 31입니다\n"
     ]
    }
   ],
   "source": [
    "#Q2. 중복 없는 로또 번호 생성기 만들기\n",
    "import random\n",
    "\n",
    "print('로또 생성 프로그램')\n",
    "print('==================')\n",
    "\n",
    "cnt = 0\n",
    "\n",
    "answer_list = [] #중복피하기 위한 정답 리스트\n",
    "\n",
    "while cnt < 6:\n",
    "    answer_num = random.randint(1, 45) \n",
    "    \n",
    "    if answer_num not in answer_list: #리스트 안에 랜덤값이 없다면 추가\n",
    "        print('{}번째 번호는 {}입니다'.format(cnt+1, answer_num))\n",
    "        answer_list += [answer_num]\n",
    "        cnt += 1"
   ]
  },
  {
   "cell_type": "code",
   "execution_count": null,
   "metadata": {},
   "outputs": [],
   "source": [
    "import random\n",
    "\n",
    "print('로또 생성 프로그램')\n",
    "print('==================')\n",
    "\n",
    "cnt = 0\n",
    "\n",
    "while cnt < 6:\n",
    "    if answer_num = \n",
    "    answer_num = random.randint(1, 45)\n",
    "    "
   ]
  },
  {
   "cell_type": "code",
   "execution_count": 2,
   "metadata": {},
   "outputs": [
    {
     "data": {
      "text/plain": [
       "[[10, 20], [500, 600, 700]]"
      ]
     },
     "execution_count": 2,
     "metadata": {},
     "output_type": "execute_result"
    }
   ],
   "source": [
    ">>> a = []\n",
    ">>> a.append([])\n",
    ">>> a[0].append(10)\n",
    ">>> a[0].append(20)\n",
    ">>> a.append([])\n",
    ">>> a[1].append(500)\n",
    ">>> a[1].append(600)\n",
    ">>> a[1].append(700)\n",
    ">>> a"
   ]
  },
  {
   "cell_type": "code",
   "execution_count": null,
   "metadata": {},
   "outputs": [],
   "source": []
  }
 ],
 "metadata": {
  "kernelspec": {
   "display_name": "Python 3",
   "language": "python",
   "name": "python3"
  },
  "language_info": {
   "codemirror_mode": {
    "name": "ipython",
    "version": 3
   },
   "file_extension": ".py",
   "mimetype": "text/x-python",
   "name": "python",
   "nbconvert_exporter": "python",
   "pygments_lexer": "ipython3",
   "version": "3.8.5"
  }
 },
 "nbformat": 4,
 "nbformat_minor": 4
}
